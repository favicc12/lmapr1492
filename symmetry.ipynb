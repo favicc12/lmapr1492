{
 "cells": [
  {
   "cell_type": "code",
   "execution_count": 1,
   "id": "8e41b492",
   "metadata": {},
   "outputs": [],
   "source": [
    "import numpy as np\n",
    "from mp_api.client import MPRester\n",
    "from pymatgen.core.operations import SymmOp\n",
    "from pymatgen.symmetry.analyzer import SpacegroupAnalyzer\n",
    "from pymatgen.electronic_structure.plotter import BSPlotter\n",
    "from pymatgen.phonon.plotter import PhononBSPlotter\n",
    "from jupyter_jsmol.pymatgen import quick_view\n",
    "from lmapr1492 import plot_brillouin_zone, get_plot_bs, get_plot_dos, get_plot_bs_and_dos, get_branch_wavevectors\n",
    "from plotly.subplots import make_subplots\n",
    "import plotly.graph_objects as go"
   ]
  },
  {
   "cell_type": "code",
   "execution_count": 2,
   "id": "68479a66",
   "metadata": {},
   "outputs": [],
   "source": [
    "mp_key = \"nPJf5FFhl6DXPpC4NQSxAL5REFwR0nb0\" #C'est le clé api de materials project personnel?\n",
    "mp_id = \"mp-23040\""
   ]
  },
  {
   "cell_type": "code",
   "execution_count": 3,
   "id": "f312daca",
   "metadata": {
    "scrolled": false
   },
   "outputs": [
    {
     "data": {
      "application/vnd.jupyter.widget-view+json": {
       "model_id": "e12c35ecc381483ab94df6017166cb54",
       "version_major": 2,
       "version_minor": 0
      },
      "text/plain": [
       "Retrieving MaterialsDoc documents:   0%|          | 0/1 [00:00<?, ?it/s]"
      ]
     },
     "metadata": {},
     "output_type": "display_data"
    },
    {
     "data": {
      "application/vnd.jupyter.widget-view+json": {
       "model_id": "80cf69e75e384e9b89918430f8d70a1e",
       "version_major": 2,
       "version_minor": 0
      },
      "text/plain": [
       "Retrieving MaterialsDoc documents:   0%|          | 0/1 [00:00<?, ?it/s]"
      ]
     },
     "metadata": {},
     "output_type": "display_data"
    }
   ],
   "source": [
    "with MPRester(mp_key) as m:\n",
    "    struct = m.get_structure_by_material_id(mp_id)\n",
    "    struct_prim = m.get_structure_by_material_id(mp_id)\n",
    "    conv_struct = SpacegroupAnalyzer(struct_prim).get_conventional_standard_structure()\n",
    "    ops_sym = SpacegroupAnalyzer(conv_struct).get_space_group_operations()\n",
    "analyse = SpacegroupAnalyzer(struct)\n",
    "syms = analyse.get_symmetry_operations()"
   ]
  },
  {
   "cell_type": "markdown",
   "id": "7e8a6815",
   "metadata": {},
   "source": [
    "## Structure"
   ]
  },
  {
   "cell_type": "code",
   "execution_count": 4,
   "id": "6e5f3108",
   "metadata": {},
   "outputs": [
    {
     "name": "stdout",
     "output_type": "stream",
     "text": [
      "Full Formula (Ca2 P1 I1)\n",
      "Reduced Formula: Ca2PI\n",
      "abc   :   7.828366   7.828366   7.828367\n",
      "angles:  31.966665  31.966669  31.966669\n",
      "pbc   :       True       True       True\n",
      "Sites (4)\n",
      "  #  SP           a          b         c    magmom\n",
      "---  ----  --------  ---------  --------  --------\n",
      "  0  Ca    0.770118   0.770118  0.770118        -0\n",
      "  1  Ca    0.229882   0.229882  0.229882        -0\n",
      "  2  P     0.5        0.5       0.5              0\n",
      "  3  I     0         -0         0                0\n",
      "R-3m (166) spacegroup\n"
     ]
    },
    {
     "data": {
      "application/vnd.jupyter.widget-view+json": {
       "model_id": "84a153f2ed254d36a41c0401590e7fc2",
       "version_major": 2,
       "version_minor": 0
      },
      "text/plain": [
       "JsmolView(layout=Layout(align_self='stretch', height='400px'))"
      ]
     },
     "metadata": {},
     "output_type": "display_data"
    },
    {
     "name": "stdout",
     "output_type": "stream",
     "text": [
      "[PeriodicSite: Ca (2.156, -1.245, 2.303) [0.6667, 0.3333, 0.1035], PeriodicSite: Ca (0.0, 0.0, 5.119) [0.0, 0.0, 0.2299], PeriodicSite: Ca (2.156, 1.245, 9.726) [0.3333, 0.6667, 0.4368], PeriodicSite: Ca (2.156, -1.245, 12.54) [0.6667, 0.3333, 0.5632], PeriodicSite: Ca (0.0, 0.0, 17.15) [0.0, 0.0, 0.7701], PeriodicSite: Ca (2.156, 1.245, 19.96) [0.3333, 0.6667, 0.8965], PeriodicSite: P (2.156, 1.245, 3.711) [0.3333, 0.6667, 0.1667], PeriodicSite: P (4.311, -4.441e-16, 11.13) [1.0, 1.0, 0.5], PeriodicSite: P (2.156, -1.245, 18.56) [0.6667, 0.3333, 0.8333], PeriodicSite: I (0.0, 0.0, 0.0) [0.0, 0.0, 0.0], PeriodicSite: I (2.156, -1.245, 7.422) [0.6667, 0.3333, 0.3333], PeriodicSite: I (2.156, 1.245, 14.84) [0.3333, 0.6667, 0.6667]]\n"
     ]
    }
   ],
   "source": [
    "print(struct) #Données sur la structure\n",
    "print(ops_sym) # => R-3m (166) spacegroup\n",
    "\n",
    "view = quick_view(conv_struct, \"packed\", conventional = True)\n",
    "display(view)\n",
    "#view.script('rotate on')\n",
    "\n",
    "print(conv_struct.sites) #Pour avoir coords pour positions de depart par rapport aux vecteurs (a,b,c)"
   ]
  },
  {
   "cell_type": "markdown",
   "id": "0f2639b3",
   "metadata": {},
   "source": [
    "# Symétries du maille"
   ]
  },
  {
   "cell_type": "markdown",
   "id": "8f2169bb",
   "metadata": {},
   "source": [
    "### Symétrie de reflexion (symètrie miroir)"
   ]
  },
  {
   "cell_type": "code",
   "execution_count": 5,
   "id": "d91e59d6-b967-4826-a2de-55966c0d65dc",
   "metadata": {
    "scrolled": false
   },
   "outputs": [
    {
     "data": {
      "application/vnd.jupyter.widget-view+json": {
       "model_id": "e7f70ebcb63143ebb959816a32352c15",
       "version_major": 2,
       "version_minor": 0
      },
      "text/plain": [
       "JsmolView(layout=Layout(align_self='stretch', height='400px'))"
      ]
     },
     "metadata": {},
     "output_type": "display_data"
    },
    {
     "name": "stdout",
     "output_type": "stream",
     "text": [
      "Symétrie: reflexion/ symètrie miroir autour plan de normale (1,1,0): (x,y,z) => (-y,-x,z) \n",
      "\n",
      "Rot:\n",
      "[[ 0. -1.  0.]\n",
      " [-1.  0.  0.]\n",
      " [ 0.  0.  1.]]\n",
      "tau\n",
      "[0. 0. 0.] \n",
      "\n",
      "Position initial (par rapport aux vecteurs a,b,c) de l'atome sélectionnée:  \n",
      " [0.66666667 0.33333333 0.1034518 ]  => atome de Ca\n",
      "Position de l'atome après application de l'élément de symétrie:  \n",
      " [-0.33333333 -0.66666667  0.1034518 ]\n"
     ]
    }
   ],
   "source": [
    "i_atom = 9 #Obtained by hovering over desired atom in (conventional struct) in the viewer!\n",
    "i_symmop = 8 #Obtained from jsmol crystal symmetry explorer\n",
    "\n",
    "view = quick_view(struct_prim, \"packed\", conventional = True)\n",
    "display(view)\n",
    "view.script('draw SYMOP ' + str(i_symmop) + ' {atomno = ' + str(i_atom) + '}')\n",
    "\n",
    "pos_depart = conv_struct.sites[0].frac_coords #C'est la coord de l'atome qui corresponds a celle de l'atome Ca au position 9\n",
    "pos_final = ops_sym[i_symmop-1].operate(pos_depart)\n",
    "\n",
    "print(\"Symétrie: reflexion/ symètrie miroir autour plan de normale (1,1,0): (x,y,z) => (-y,-x,z)\", \"\\n\")\n",
    "print(ops_sym[i_symmop-1], \"\\n\")\n",
    "print(\"Position initial (par rapport aux vecteurs a,b,c) de l'atome sélectionnée: \", \"\\n\", pos_depart, \" => atome de Ca\")\n",
    "print(\"Position de l'atome après application de l'élément de symétrie: \", \"\\n\", pos_final)"
   ]
  },
  {
   "cell_type": "markdown",
   "id": "97a95c95",
   "metadata": {},
   "source": [
    "La symètrie de réflexion (plan) est une opération de deuxiéme espéce qui inverse la chiralité, avec la déterminant de la matrice de rotation ayant une déterminant qui vaut -1."
   ]
  },
  {
   "cell_type": "markdown",
   "id": "0f2c6cb1",
   "metadata": {},
   "source": [
    "### Symétrie de rotation"
   ]
  },
  {
   "cell_type": "code",
   "execution_count": 6,
   "id": "747858a2",
   "metadata": {},
   "outputs": [
    {
     "data": {
      "application/vnd.jupyter.widget-view+json": {
       "model_id": "21d42b0eaa624def9502c1a9cb3e1eb1",
       "version_major": 2,
       "version_minor": 0
      },
      "text/plain": [
       "JsmolView(layout=Layout(align_self='stretch', height='400px'))"
      ]
     },
     "metadata": {},
     "output_type": "display_data"
    },
    {
     "name": "stdout",
     "output_type": "stream",
     "text": [
      "Symétrie: rotation de degré 3 autour du vecteur c: (x,y,z) => (-y,x-y,z) \n",
      "\n",
      "Rot:\n",
      "[[ 0. -1.  0.]\n",
      " [ 1. -1.  0.]\n",
      " [ 0.  0.  1.]]\n",
      "tau\n",
      "[0. 0. 0.] \n",
      "\n",
      "Position initial (par rapport aux vecteurs a,b,c) de l'atome sélectionnée:  \n",
      " [0.33333333 0.66666667 0.16666667]  => atome de P\n",
      "Position de l'atome après application de l'élément de symétrie:  \n",
      " [-0.66666667 -0.33333333  0.16666667]\n"
     ]
    }
   ],
   "source": [
    "i_atom = 2 #Obtained by hovering over desired atom in (conventional struct) in the viewer!\n",
    "i_symmop = 3 #Obtained from jsmol crystal symmetry explorer\n",
    "\n",
    "view = quick_view(struct_prim, \"packed\", conventional = True)\n",
    "display(view)\n",
    "view.script('draw SYMOP ' + str(i_symmop) + ' {atomno = ' + str(i_atom) + '}')\n",
    "\n",
    "pos_depart = conv_struct.sites[6].frac_coords #C'est la coord de l'atome qui corresponds a celle de l'atome I au position \n",
    "pos_final = ops_sym[i_symmop-1].operate(pos_depart)\n",
    "\n",
    "print(\"Symétrie: rotation de degré 3 autour du vecteur c: (x,y,z) => (-y,x-y,z)\", \"\\n\")\n",
    "print(ops_sym[i_symmop-1], \"\\n\")\n",
    "print(\"Position initial (par rapport aux vecteurs a,b,c) de l'atome sélectionnée: \", \"\\n\", pos_depart, \" => atome de P\")\n",
    "print(\"Position de l'atome après application de l'élément de symétrie: \", \"\\n\", pos_final)"
   ]
  },
  {
   "cell_type": "markdown",
   "id": "86ced690",
   "metadata": {},
   "source": [
    "La rotation de 3éme degré (de pi/3) conserve la chiralité, avec la déterminant de la matrice de rotation ayant une déterminant qui vaut 1."
   ]
  },
  {
   "cell_type": "markdown",
   "id": "4f4668f3",
   "metadata": {},
   "source": [
    "### Symétrie de rotation => (Que deux symètries uniques pour mon maille)"
   ]
  },
  {
   "cell_type": "code",
   "execution_count": 7,
   "id": "a3c5b62c",
   "metadata": {
    "scrolled": false
   },
   "outputs": [
    {
     "data": {
      "application/vnd.jupyter.widget-view+json": {
       "model_id": "0d7b608afbcd4cbda0397dfc81d5c1c6",
       "version_major": 2,
       "version_minor": 0
      },
      "text/plain": [
       "JsmolView(layout=Layout(align_self='stretch', height='400px'))"
      ]
     },
     "metadata": {},
     "output_type": "display_data"
    },
    {
     "name": "stdout",
     "output_type": "stream",
     "text": [
      "Symétrie: rotation de degré 3 autour du vecteur c: (x,y,z) => (-y,x-y,z) \n",
      "\n",
      "Rot:\n",
      "[[ 0. -1.  0.]\n",
      " [ 1. -1.  0.]\n",
      " [ 0.  0.  1.]]\n",
      "tau\n",
      "[0. 0. 0.] \n",
      "\n",
      "Position initial (par rapport aux vecteurs a,b,c) de l'atome sélectionnée:  \n",
      " [0.66666667 0.33333333 0.33333333]  => atome de I\n",
      "Position de l'atome après application de l'élément de symétrie:  \n",
      " [-0.33333333  0.33333333  0.33333333]\n"
     ]
    }
   ],
   "source": [
    "i_atom = 8 #Obtained by hovering over desired atom in (conventional struct) in the viewer!\n",
    "i_symmop = 3 #Obtained from jsmol crystal symmetry explorer\n",
    "\n",
    "view = quick_view(struct_prim, \"packed\", conventional = True)\n",
    "display(view)\n",
    "view.script('draw SYMOP ' + str(i_symmop) + ' {atomno = ' + str(i_atom) + '}')\n",
    "\n",
    "pos_depart = conv_struct.sites[10].frac_coords #C'est la coord de l'atome qui corresponds a celle de l'atome I au position \n",
    "pos_final = ops_sym[i_symmop-1].operate(pos_depart)\n",
    "\n",
    "print(\"Symétrie: rotation de degré 3 autour du vecteur c: (x,y,z) => (-y,x-y,z)\", \"\\n\")\n",
    "print(ops_sym[i_symmop-1], \"\\n\")\n",
    "print(\"Position initial (par rapport aux vecteurs a,b,c) de l'atome sélectionnée: \", \"\\n\", pos_depart, \" => atome de I\")\n",
    "print(\"Position de l'atome après application de l'élément de symétrie: \", \"\\n\", pos_final)"
   ]
  },
  {
   "cell_type": "markdown",
   "id": "c8e5ae42",
   "metadata": {},
   "source": [
    "La rotation de 3éme degré (de pi/3) conserve la chiralité, avec la déterminant de la matrice de rotation ayant une déterminant qui vaut 1."
   ]
  },
  {
   "cell_type": "code",
   "execution_count": 8,
   "id": "5ccfcf3a",
   "metadata": {
    "scrolled": false
   },
   "outputs": [],
   "source": [
    "#for i in range(len(syms)): #MAUVAIS MATRICES, UTILISER ops_sym!\n",
    "    #print(i)\n",
    "    #print(syms[i])\n",
    "#for i in range(len(ops_sym)): #CELUI A UTILISER - corresponds a jsmol crystal symmetry explorer\n",
    "    #print(i)\n",
    "    #print(ops_sym[i])"
   ]
  }
 ],
 "metadata": {
  "kernelspec": {
   "display_name": "Python 3 (ipykernel)",
   "language": "python",
   "name": "python3"
  },
  "language_info": {
   "codemirror_mode": {
    "name": "ipython",
    "version": 3
   },
   "file_extension": ".py",
   "mimetype": "text/x-python",
   "name": "python",
   "nbconvert_exporter": "python",
   "pygments_lexer": "ipython3",
   "version": "3.9.13"
  }
 },
 "nbformat": 4,
 "nbformat_minor": 5
}
