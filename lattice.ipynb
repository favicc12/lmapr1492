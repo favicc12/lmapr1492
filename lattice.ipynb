{
 "cells": [
  {
   "cell_type": "code",
   "execution_count": 1,
   "id": "8e41b492",
   "metadata": {},
   "outputs": [],
   "source": [
    "import numpy as np\n",
    "from mp_api.client import MPRester\n",
    "from pymatgen.core.operations import SymmOp\n",
    "from pymatgen.symmetry.analyzer import SpacegroupAnalyzer\n",
    "from pymatgen.electronic_structure.plotter import BSPlotter\n",
    "from pymatgen.phonon.plotter import PhononBSPlotter\n",
    "from jupyter_jsmol.pymatgen import quick_view\n",
    "from lmapr1492 import plot_brillouin_zone, get_plot_bs, get_plot_dos, get_plot_bs_and_dos, get_branch_wavevectors\n",
    "from plotly.subplots import make_subplots\n",
    "import plotly.graph_objects as go"
   ]
  },
  {
   "cell_type": "code",
   "execution_count": 2,
   "id": "68479a66",
   "metadata": {},
   "outputs": [],
   "source": [
    "mp_key = \"nPJf5FFhl6DXPpC4NQSxAL5REFwR0nb0\" #C'est le clé api de materials project personnel?\n",
    "mp_id = \"mp-23040\""
   ]
  },
  {
   "cell_type": "code",
   "execution_count": 3,
   "id": "f312daca",
   "metadata": {},
   "outputs": [
    {
     "data": {
      "application/vnd.jupyter.widget-view+json": {
       "model_id": "6939a36786fc4fd2a45b0e4180b73c49",
       "version_major": 2,
       "version_minor": 0
      },
      "text/plain": [
       "Retrieving MaterialsDoc documents:   0%|          | 0/1 [00:00<?, ?it/s]"
      ]
     },
     "metadata": {},
     "output_type": "display_data"
    }
   ],
   "source": [
    "with MPRester(mp_key) as m:\n",
    "    struct = m.get_structure_by_material_id(mp_id)\n",
    "analyse = SpacegroupAnalyzer(struct)"
   ]
  },
  {
   "cell_type": "markdown",
   "id": "8f2169bb",
   "metadata": {},
   "source": [
    "# Structure analysis"
   ]
  },
  {
   "cell_type": "code",
   "execution_count": 4,
   "id": "d91e59d6-b967-4826-a2de-55966c0d65dc",
   "metadata": {},
   "outputs": [
    {
     "name": "stdout",
     "output_type": "stream",
     "text": [
      "Full Formula (Ca2 P1 I1)\n",
      "Reduced Formula: Ca2PI\n",
      "abc   :   7.828366   7.828366   7.828367\n",
      "angles:  31.966665  31.966669  31.966669\n",
      "pbc   :       True       True       True\n",
      "Sites (4)\n",
      "  #  SP           a          b         c    magmom\n",
      "---  ----  --------  ---------  --------  --------\n",
      "  0  Ca    0.770118   0.770118  0.770118        -0\n",
      "  1  Ca    0.229882   0.229882  0.229882        -0\n",
      "  2  P     0.5        0.5       0.5              0\n",
      "  3  I     0         -0         0                0\n"
     ]
    }
   ],
   "source": [
    "print(struct) #Données sur la structure"
   ]
  },
  {
   "cell_type": "markdown",
   "id": "0f2c6cb1",
   "metadata": {},
   "source": [
    "#### Vecteurs de base résau direct"
   ]
  },
  {
   "cell_type": "code",
   "execution_count": 5,
   "id": "747858a2",
   "metadata": {},
   "outputs": [
    {
     "name": "stdout",
     "output_type": "stream",
     "text": [
      "vecteurs de base du résau direct:\n",
      "(a,b,c) =  \n",
      " ( [4.14681860e+00 1.63696000e-03 6.63982006e+00] , \n",
      " [1.90431365 3.68370679 6.63982006] , \n",
      " [2.68702000e-03 1.63697000e-03 7.82836615e+00] ) \n",
      "\n"
     ]
    }
   ],
   "source": [
    "print(\"vecteurs de base du résau direct:\")\n",
    "lattice = struct.lattice #Simplifer code\n",
    "print(\"(a,b,c) = \",\"\\n\",\"(\",lattice.matrix[0],\",\",\"\\n\",lattice.matrix[1],\",\",\"\\n\",lattice.matrix[2],\")\",\"\\n\")"
   ]
  },
  {
   "cell_type": "markdown",
   "id": "4f4668f3",
   "metadata": {},
   "source": [
    "#### Norme des vecteurs résau direct "
   ]
  },
  {
   "cell_type": "code",
   "execution_count": 6,
   "id": "5ccfcf3a",
   "metadata": {},
   "outputs": [
    {
     "name": "stdout",
     "output_type": "stream",
     "text": [
      "norme des vecteurs de base du résau direct (en [Å]):\n",
      "(a,b,c) =  \n",
      " ( 7.828366215892203 , \n",
      " 7.828366152745209 , \n",
      " 7.828366782299683 ) \n",
      "\n"
     ]
    }
   ],
   "source": [
    "print(\"norme des vecteurs de base du résau direct (en [Å]):\")\n",
    "print(\"(a,b,c) = \",\"\\n\",\"(\",lattice.a,\",\",\"\\n\",lattice.b,\",\",\"\\n\",lattice.c,\")\",\"\\n\")"
   ]
  },
  {
   "cell_type": "markdown",
   "id": "c3e3bc7a",
   "metadata": {},
   "source": [
    "#### Vecteurs de base résau réciproque"
   ]
  },
  {
   "cell_type": "code",
   "execution_count": 7,
   "id": "f180b744",
   "metadata": {},
   "outputs": [
    {
     "name": "stdout",
     "output_type": "stream",
     "text": [
      "vecteurs de base du résau réciproque:\n",
      "(a,b,c) =  \n",
      " ( [ 1.51606225e+00 -7.83094386e-01 -3.56624551e-04] , \n",
      " [-1.02320780e-04  1.70636521e+00 -3.56778626e-04] , \n",
      " [-1.28579846 -0.78309471  0.8032228 ] ) \n",
      "\n"
     ]
    }
   ],
   "source": [
    "print(\"vecteurs de base du résau réciproque:\")\n",
    "rlattice = struct.lattice.reciprocal_lattice #Simplifer code\n",
    "print(\"(a,b,c) = \",\"\\n\",\"(\",rlattice.matrix[0],\",\",\"\\n\",rlattice.matrix[1],\",\",\"\\n\",rlattice.matrix[2],\")\",\"\\n\")"
   ]
  },
  {
   "cell_type": "markdown",
   "id": "5d28f1e8",
   "metadata": {},
   "source": [
    "#### Norme des vecteurs résau réciproque"
   ]
  },
  {
   "cell_type": "code",
   "execution_count": 8,
   "id": "7a330cdd",
   "metadata": {},
   "outputs": [
    {
     "name": "stdout",
     "output_type": "stream",
     "text": [
      "norme des vecteurs de base du résau direct (en [Å]):\n",
      "(a,b,c) =  \n",
      " ( 1.706365049332668 , \n",
      " 1.7063652486341085 , \n",
      " 1.706365103743214 ) \n",
      "\n"
     ]
    }
   ],
   "source": [
    "print(\"norme des vecteurs de base du résau direct (en [Å]):\")\n",
    "print(\"(a,b,c) = \",\"\\n\",\"(\",rlattice.a,\",\",\"\\n\",rlattice.b,\",\",\"\\n\",rlattice.c,\")\",\"\\n\")"
   ]
  },
  {
   "cell_type": "markdown",
   "id": "41521a6f",
   "metadata": {},
   "source": [
    "#### Structure"
   ]
  },
  {
   "cell_type": "code",
   "execution_count": 9,
   "id": "209bf790",
   "metadata": {},
   "outputs": [
    {
     "name": "stdout",
     "output_type": "stream",
     "text": [
      "Le type du maille du système cristallin est: \n",
      " rhombohedral R \n",
      "\n",
      "Groupe ponctuel:  R-3m \n",
      "\n",
      "Système cristallin:  trigonal \n",
      "\n"
     ]
    }
   ],
   "source": [
    "type = analyse.get_lattice_type()\n",
    "g_ponctuel = analyse.get_space_group_symbol()\n",
    "systeme = analyse.get_crystal_system()\n",
    "\n",
    "print(\"Le type du maille du système cristallin est:\",\"\\n\",type,g_ponctuel[0],\"\\n\")\n",
    "print(\"Groupe ponctuel: \", g_ponctuel,\"\\n\")\n",
    "print(\"Système cristallin: \", systeme,\"\\n\")\n",
    "#systéme: orthorombique, groupe ponctuel: R-3m"
   ]
  },
  {
   "cell_type": "code",
   "execution_count": null,
   "id": "4767fd02",
   "metadata": {},
   "outputs": [],
   "source": []
  }
 ],
 "metadata": {
  "kernelspec": {
   "display_name": "Python 3 (ipykernel)",
   "language": "python",
   "name": "python3"
  },
  "language_info": {
   "codemirror_mode": {
    "name": "ipython",
    "version": 3
   },
   "file_extension": ".py",
   "mimetype": "text/x-python",
   "name": "python",
   "nbconvert_exporter": "python",
   "pygments_lexer": "ipython3",
   "version": "3.9.13"
  }
 },
 "nbformat": 4,
 "nbformat_minor": 5
}
